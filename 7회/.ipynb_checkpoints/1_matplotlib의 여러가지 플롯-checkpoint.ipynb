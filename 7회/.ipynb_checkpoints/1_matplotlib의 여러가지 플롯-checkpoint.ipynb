{
 "cells": [
  {
   "cell_type": "code",
   "execution_count": 1,
   "metadata": {
    "collapsed": true
   },
   "outputs": [],
   "source": [
    "import numpy as np\n",
    "import pandas as pd\n",
    "import matplotlib.pyplot as plt"
   ]
  },
  {
   "cell_type": "code",
   "execution_count": 2,
   "metadata": {
    "collapsed": true
   },
   "outputs": [],
   "source": [
    "# 한글 폰트\n",
    "from matplotlib import font_manager, rc\n",
    "font_name = font_manager.FontProperties(fname=\"C:/Windows/Fonts/malgun.ttf\").get_name()\n",
    "rc('font', family=font_name)"
   ]
  },
  {
   "cell_type": "markdown",
   "metadata": {
    "school_cell_uuid": "7e210b26f053433b9cf9059a1f6a49c5"
   },
   "source": [
    "# matplotlib의 여러가지 플롯"
   ]
  },
  {
   "cell_type": "markdown",
   "metadata": {
    "school_cell_uuid": "39a825947a314b7598f195066bd64a39"
   },
   "source": [
    "matplotlib는 기본적인 라인 플롯 이외에도 다양한 챠트/플롯 유형을 지원한다."
   ]
  },
  {
   "cell_type": "markdown",
   "metadata": {
    "school_cell_uuid": "f078754f324b4649b332e699db94a9b7"
   },
   "source": [
    "## 바 차트"
   ]
  },
  {
   "cell_type": "markdown",
   "metadata": {
    "school_cell_uuid": "d4099823a1c24eeea92b8f8507819ead"
   },
   "source": [
    "x, y 데이터 중 하나가 카테고리 값인 경우에는 `bar` 명령과 `barh` 명령으로 바 차트(bar chart) 시각화를 할 수 있다. 가로 방향으로 바 차트를 그리려면 `barh` 명령을 사용한다.\n",
    "\n",
    "자세한 내용은 다음 웹사이트를 참조한다.\n",
    "\n",
    "* http://matplotlib.org/api/pyplot_api.html#matplotlib.pyplot.bar\n",
    "* http://matplotlib.org/api/pyplot_api.html#matplotlib.pyplot.barh"
   ]
  },
  {
   "cell_type": "markdown",
   "metadata": {
    "school_cell_uuid": "c99da6289f6f4202b95750a05816bc7d"
   },
   "source": [
    "바 차트 작성시 주의점은 첫번째 인수인 `left` 가 x축에서 바(bar)의 왼쪽 변의 위치를 나타낸다는 점이다. "
   ]
  },
  {
   "cell_type": "code",
   "execution_count": 3,
   "metadata": {
    "school_cell_uuid": "c1702f5103c34386a19d0f21121f8a2f"
   },
   "outputs": [
    {
     "data": {
      "image/png": "[encoded data removed]",
      "text/plain": [
       "<matplotlib.figure.Figure at 0x19daaae6b00>"
      ]
     },
     "metadata": {},
     "output_type": "display_data"
    }
   ],
   "source": [
    "y = [2, 3, 1]\n",
    "x = np.arange(len(y))\n",
    "xlabel = ['a', 'b', 'c']\n",
    "plt.bar(x, y)\n",
    "#plt.xticks(x, xlabel)\n",
    "plt.show()"
   ]
  },
  {
   "cell_type": "markdown",
   "metadata": {
    "school_cell_uuid": "00d3481cf45b4b06b3f7f0126eb0867a"
   },
   "source": [
    "`xerr` 인수나 `yerr` 인수를 지정하면 에러 바(error bar)를 추가할 수 있다. 여기에서 `alpha`는 투명도를 지정한다. 0이면 완전 투명, 1이면 완전 불투명이다."
   ]
  },
  {
   "cell_type": "code",
   "execution_count": 4,
   "metadata": {
    "school_cell_uuid": "b19ca9e3cabb43f7b879fab0b6e5e810"
   },
   "outputs": [
    {
     "data": {
      "image/png": "[encoded data removed]",
      "text/plain": [
       "<matplotlib.figure.Figure at 0x19daa8982b0>"
      ]
     },
     "metadata": {},
     "output_type": "display_data"
    }
   ],
   "source": [
    "people = (u'박근혜', u'정유라', u'정윤회', u'최순실', u'최태민')\n",
    "y_pos = np.arange(len(people))\n",
    "performance = 3 + 10 * np.random.rand(len(people))\n",
    "error = np.random.rand(len(people))\n",
    "#xerr - 에러 라인 \n",
    "plt.barh(y_pos, performance, xerr=error,  alpha=0.4) # alpha - 투명도 설정\n",
    "plt.yticks(y_pos, people)\n",
    "plt.xlabel(u'x 라벨')\n",
    "plt.show()"
   ]
  },
  {
   "cell_type": "markdown",
   "metadata": {
    "school_cell_uuid": "2f611da447d9427ca3d77dd12e2fdefe"
   },
   "source": [
    "두 개 이상의 바 차트를 한번에 그리는 경우도 있다."
   ]
  },
  {
   "cell_type": "code",
   "execution_count": null,
   "metadata": {
    "collapsed": true,
    "school_cell_uuid": "260a7dddf1d84e9a8d3747b9474c7ec8"
   },
   "outputs": [],
   "source": [
    "n_groups = 5\n",
    "means_men = (20, 35, 30, 35, 27)\n",
    "std_men = (2, 3, 4, 1, 2)\n",
    "means_women = (25, 32, 34, 20, 25)\n",
    "std_women = (3, 5, 2, 3, 3)\n",
    "\n",
    "fig, ax = plt.subplots()\n",
    "\n",
    "index = np.arange(n_groups)\n",
    "bar_width = 0.35\n",
    "\n",
    "opacity = 0.4\n",
    "error_config = {'ecolor': '0.3'}\n",
    "\n",
    "rects1 = plt.bar(index, means_men, bar_width,\n",
    "                 alpha=opacity,\n",
    "                 color='b',\n",
    "                 yerr=std_men,\n",
    "                 error_kw=error_config,\n",
    "                 label='Men',\n",
    "                 align='edge')\n",
    "\n",
    "rects2 = plt.bar(index + bar_width, means_women, bar_width,\n",
    "                 alpha=opacity,\n",
    "                 color='r',\n",
    "                 yerr=std_women,\n",
    "                 error_kw=error_config, # error_kw : 에러 선 투명도\n",
    "                 label='Women',\n",
    "                 align='edge')\n",
    "\n",
    "plt.xlabel('Group')\n",
    "plt.ylabel('Scores')\n",
    "plt.title('Scores by group and gender')\n",
    "plt.xticks(index + bar_width, ('A', 'B', 'C', 'D', 'E'))\n",
    "plt.legend()\n",
    "plt.tight_layout()\n",
    "plt.show()"
   ]
  },
  {
   "cell_type": "markdown",
   "metadata": {
    "school_cell_uuid": "0f04c756e3bc41a3b97b57c9bcfc751e"
   },
   "source": [
    "또는 `bottom` 인수로 바의 위치를 조정하여 겹친 바 차트(stacked bar chart)도 그릴 수 있다."
   ]
  },
  {
   "cell_type": "code",
   "execution_count": null,
   "metadata": {
    "collapsed": true,
    "school_cell_uuid": "61dc6320b9534069a61c6103e6a3a998"
   },
   "outputs": [],
   "source": [
    "N = 5\n",
    "menMeans = (20, 35, 30, 35, 27)\n",
    "womenMeans = (25, 32, 34, 20, 25)\n",
    "menStd = (2, 3, 4, 1, 2)\n",
    "womenStd = (3, 5, 2, 3, 3)\n",
    "ind = np.arange(N)    # the x locations for the groups\n",
    "width = 0.35       # the width of the bars: can also be len(x) sequence\n",
    "\n",
    "p1 = plt.bar(ind, menMeans, width, color='r', yerr=menStd)\n",
    "p2 = plt.bar(ind, womenMeans, width, color='y',\n",
    "             bottom=menMeans, yerr=womenStd)\n",
    "\n",
    "plt.ylabel('Scores')\n",
    "plt.title('Scores by group and gender')\n",
    "plt.xticks(ind, ('G1', 'G2', 'G3', 'G4', 'G5'))\n",
    "plt.yticks(np.arange(0, 81, 10))\n",
    "plt.legend((p1[0], p2[0]), ('Men', 'Women'))\n",
    "plt.show()"
   ]
  },
  {
   "cell_type": "markdown",
   "metadata": {
    "school_cell_uuid": "76092dd8c98b40c3bce89f77214da215"
   },
   "source": [
    "### 연습 문제 1\n",
    "\n",
    "여러분이 가진 데이터를 사용하여 bar plot을 그려보세요."
   ]
  },
  {
   "cell_type": "markdown",
   "metadata": {
    "school_cell_uuid": "7b0aef03173742ad84d418c093d52b7d"
   },
   "source": [
    "## 파이 차트"
   ]
  },
  {
   "cell_type": "markdown",
   "metadata": {
    "school_cell_uuid": "8499ba56359846f98ea28ff282d30286"
   },
   "source": [
    "카테고리 별 값의 상대적인 비교를 해야 할 때는 `pie` 명령으로 파이 차트(pie chart)를 그릴 수 있다.\n",
    "\n",
    "* http://matplotlib.org/api/pyplot_api.html#matplotlib.pyplot.pie"
   ]
  },
  {
   "cell_type": "code",
   "execution_count": null,
   "metadata": {
    "collapsed": true,
    "school_cell_uuid": "dc28214216354edabeb7bbf0b4dca0db"
   },
   "outputs": [],
   "source": [
    "labels = u'개구리', u'돼지', u'개', u'통나무'\n",
    "sizes = [15, 30, 45, 10]\n",
    "colors = ['yellowgreen', 'gold', 'lightskyblue', 'lightcoral']\n",
    "explode = (0, 0.1, 0, 0)\n",
    "plt.pie(sizes, explode=explode, labels=labels, colors=colors,\n",
    "        autopct='%1.1f%%', shadow=True, startangle=80)\n",
    "plt.axis('equal')\n",
    "plt.show()"
   ]
  },
  {
   "cell_type": "markdown",
   "metadata": {
    "school_cell_uuid": "1622c0860c724a0089ee0b4b4eb94b01"
   },
   "source": [
    "### 연습 문제 2\n",
    "\n",
    "여러분이 가진 데이터를 사용하여 파이차트를 그려보세요"
   ]
  },
  {
   "cell_type": "markdown",
   "metadata": {
    "school_cell_uuid": "92f25c8b6f2241338737e43061a266b8"
   },
   "source": [
    "## 히스토그램"
   ]
  },
  {
   "cell_type": "markdown",
   "metadata": {
    "school_cell_uuid": "43904ad951eb4f68bdc180156f53468f"
   },
   "source": [
    "히스토그램을 그리기 위한 `hist` 명령도 제공한다. `hist` 명령은 `bins` 인수로 데이터 집계 구간을 받는다. 또한 반환값으로 데이터 집계 결과를 반환해주므로 이 결과를 다른 코드에서 사용할 수도 있다.\n",
    "\n",
    "* http://matplotlib.org/api/pyplot_api.html#matplotlib.pyplot.hist"
   ]
  },
  {
   "cell_type": "code",
   "execution_count": null,
   "metadata": {
    "collapsed": true,
    "school_cell_uuid": "53347bc9678140deaaa4f45a23f579e7"
   },
   "outputs": [],
   "source": [
    "x = np.random.randn(5000)\n",
    "plt.hist(x, bins=50)\n",
    "plt.show()"
   ]
  },
  {
   "cell_type": "markdown",
   "metadata": {
    "school_cell_uuid": "7519997ce40246c69c8e3666cef67369"
   },
   "source": [
    "## 스캐터 플롯"
   ]
  },
  {
   "cell_type": "markdown",
   "metadata": {
    "school_cell_uuid": "832c66e93982410a86118dde99664b25"
   },
   "source": [
    "두 개의 데이터 집합, 예를 들면 두 벡터의 상관관계를 살펴보려면 `scatter` 명령으로 스캐터 플롯을 그린다.\n",
    "\n",
    "* http://matplotlib.org/api/pyplot_api.html#matplotlib.pyplot.scatter"
   ]
  },
  {
   "cell_type": "code",
   "execution_count": null,
   "metadata": {
    "collapsed": true,
    "school_cell_uuid": "104a69210b174b939a419f6aac96c2ca",
    "scrolled": false
   },
   "outputs": [],
   "source": [
    "X = np.random.normal(0,1,1024)\n",
    "Y = np.random.normal(0,1,1024)\n",
    "plt.scatter(X,Y)\n",
    "plt.show()"
   ]
  },
  {
   "cell_type": "code",
   "execution_count": null,
   "metadata": {
    "collapsed": true,
    "school_cell_uuid": "2fe853aefcc94a31a44cfd762e795e6b"
   },
   "outputs": [],
   "source": [
    "N = 50\n",
    "x = np.random.rand(N)\n",
    "y = np.random.rand(N)\n",
    "colors = np.random.rand(N)\n",
    "\n",
    "area = np.pi * (15 * np.random.rand(N))**2 \n",
    "plt.scatter(x, y, s=area, c=colors, alpha=0.5)\n",
    "plt.show()"
   ]
  },
  {
   "cell_type": "markdown",
   "metadata": {
    "school_cell_uuid": "f762823dacf6486f8ed460c472c72eba"
   },
   "source": [
    "## Imshow"
   ]
  },
  {
   "cell_type": "markdown",
   "metadata": {
    "school_cell_uuid": "b6fcabf0e6164a17b29db3e95a04e53c"
   },
   "source": [
    "지금 까지는 1개 혹은 2개의 1차원 자료에 대한 시각화를 살펴보았다. 이제는 행과 열을 가진 2차원 데이터의 시각화에 대해 알아본다. \n",
    "예를 들어 화상(image) 데이터는 전형적인 2차원 자료이다. \n",
    "\n",
    "가장 간단한 2차원 자료 시각화 방법은 `imshow` 명령을 써서 2차원 자료 자체를 각 위치의 명암으로 표시하는 것이다. 자료의 시각화를 돕기위해 다양한 2차원 인터폴레이션을 지원한다.\n",
    "\n",
    "* http://matplotlib.org/api/pyplot_api.html#matplotlib.pyplot.imshow\n"
   ]
  },
  {
   "cell_type": "code",
   "execution_count": null,
   "metadata": {
    "collapsed": true,
    "school_cell_uuid": "a6303126da8949ffb756cd7ee68ea530"
   },
   "outputs": [],
   "source": [
    "from sklearn.datasets import load_digits\n",
    "digits = load_digits()\n",
    "X = digits.images[0]\n",
    "X"
   ]
  },
  {
   "cell_type": "code",
   "execution_count": null,
   "metadata": {
    "collapsed": true,
    "school_cell_uuid": "ee6af5827344400cb62d4c8df31ff4c5"
   },
   "outputs": [],
   "source": [
    "plt.imshow(X, interpolation='nearest');\n",
    "plt.grid(False)\n",
    "plt.show()"
   ]
  },
  {
   "cell_type": "code",
   "execution_count": null,
   "metadata": {
    "collapsed": true,
    "school_cell_uuid": "96f47c28b7644232a3c1c7d9921ef485"
   },
   "outputs": [],
   "source": [
    "methods = [None, 'none', 'nearest', 'bilinear', 'bicubic', 'spline16',\n",
    "           'spline36', 'hanning', 'hamming', 'hermite', 'kaiser', 'quadric',\n",
    "           'catrom', 'gaussian', 'bessel', 'mitchell', 'sinc', 'lanczos']\n",
    "fig, axes = plt.subplots(3, 6, figsize=(12, 6), subplot_kw={'xticks': [], 'yticks': []})\n",
    "fig.subplots_adjust(hspace=0.3, wspace=0.05)\n",
    "for ax, interp_method in zip(axes.flat, methods):\n",
    "    ax.imshow(X, interpolation=interp_method)\n",
    "    ax.set_title(interp_method)\n",
    "plt.show()"
   ]
  }
 ],
 "metadata": {
  "kernelspec": {
   "display_name": "Python 3",
   "language": "python",
   "name": "python3"
  },
  "language_info": {
   "codemirror_mode": {
    "name": "ipython",
    "version": 3
   },
   "file_extension": ".py",
   "mimetype": "text/x-python",
   "name": "python",
   "nbconvert_exporter": "python",
   "pygments_lexer": "ipython3",
   "version": "3.6.3"
  }
 },
 "nbformat": 4,
 "nbformat_minor": 1
}
